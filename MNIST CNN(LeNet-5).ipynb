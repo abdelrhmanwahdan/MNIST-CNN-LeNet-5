{
 "cells": [
  {
   "cell_type": "code",
   "execution_count": 10,
   "metadata": {},
   "outputs": [
    {
     "name": "stdout",
     "output_type": "stream",
     "text": [
      "No GPU was detected. CNNs can be very slow without a GPU.\n"
     ]
    }
   ],
   "source": [
    "# Python ≥3.5 is required\n",
    "import sys\n",
    "assert sys.version_info >= (3, 5)\n",
    "\n",
    "# Scikit-Learn ≥0.20 is required\n",
    "import sklearn\n",
    "assert sklearn.__version__ >= \"0.20\"\n",
    "\n",
    "try:\n",
    "    # %tensorflow_version only exists in Colab.\n",
    "    %tensorflow_version 2.x\n",
    "    IS_COLAB = True\n",
    "except Exception:\n",
    "    IS_COLAB = False\n",
    "\n",
    "# TensorFlow ≥2.0 is required\n",
    "import tensorflow as tf\n",
    "from tensorflow import keras\n",
    "assert tf.__version__ >= \"2.0\"\n",
    "\n",
    "if not tf.config.list_physical_devices('GPU'):\n",
    "    print(\"No GPU was detected. CNNs can be very slow without a GPU.\")\n",
    "    if IS_COLAB:\n",
    "        print(\"Go to Runtime > Change runtime and select a GPU hardware accelerator.\")\n",
    "\n",
    "# Common imports\n",
    "import numpy as np\n",
    "import os\n",
    "\n",
    "# to make this notebook's output stable across runs\n",
    "np.random.seed(42)\n",
    "tf.random.set_seed(42)\n",
    "\n",
    "# To plot pretty figures\n",
    "%matplotlib inline\n",
    "import matplotlib as mpl\n",
    "import matplotlib.pyplot as plt\n",
    "mpl.rc('axes', labelsize=14)\n",
    "mpl.rc('xtick', labelsize=12)\n",
    "mpl.rc('ytick', labelsize=12)\n",
    "\n",
    "# Where to save the figures\n",
    "PROJECT_ROOT_DIR = \".\"\n",
    "CHAPTER_ID = \"cnn\"\n",
    "IMAGES_PATH = os.path.join(PROJECT_ROOT_DIR, \"images\", CHAPTER_ID)\n",
    "os.makedirs(IMAGES_PATH, exist_ok=True)\n",
    "\n",
    "def save_fig(fig_id, tight_layout=True, fig_extension=\"png\", resolution=300):\n",
    "    path = os.path.join(IMAGES_PATH, fig_id + \".\" + fig_extension)\n",
    "    print(\"Saving figure\", fig_id)\n",
    "    if tight_layout:\n",
    "        plt.tight_layout()\n",
    "    plt.savefig(path, format=fig_extension, dpi=resolution)"
   ]
  },
  {
   "cell_type": "code",
   "execution_count": 11,
   "metadata": {},
   "outputs": [],
   "source": [
    "(X_train, y_train), (X_test, y_test) = keras.datasets.mnist.load_data()\n",
    "\n",
    "X_train = (X_train - X_train.mean().astype(np.float32)) / X_train.std().astype(np.float32)\n",
    "X_test = (X_test - X_test.mean().astype(np.float32)) / X_test.std().astype(np.float32)\n",
    "\n",
    "X_train = X_train[..., np.newaxis]\n",
    "X_valid = X_valid[..., np.newaxis]\n",
    "X_test = X_test[..., np.newaxis]"
   ]
  },
  {
   "cell_type": "code",
   "execution_count": 40,
   "metadata": {},
   "outputs": [],
   "source": [
    "import matplotlib.pyplot as plt\n",
    "import numpy as np\n",
    "import tensorflow as tf\n",
    "from tensorflow import keras\n",
    "import tensorflow_datasets as tfds\n",
    "from tensorflow.keras import layers\n",
    "import numpy as np # linear algebra\n",
    "import pandas as pd # data processing, CSV file I/O (e.g. pd.read_csv)\n",
    "from tensorflow.keras.models import Sequential\n",
    "from tensorflow.keras.layers import Conv2D, Dense, MaxPool2D, Dropout, Flatten,BatchNormalization\n",
    "from tensorflow.keras.optimizers import Adam\n",
    "from tensorflow.keras.preprocessing.image import ImageDataGenerator\n",
    "from tensorflow.keras.callbacks import ReduceLROnPlateau\n",
    "from sklearn.model_selection import train_test_split\n",
    "import matplotlib.pyplot as plt\n",
    "import seaborn as sns"
   ]
  },
  {
   "cell_type": "markdown",
   "metadata": {},
   "source": [
    "## training the model"
   ]
  },
  {
   "cell_type": "code",
   "execution_count": 28,
   "metadata": {},
   "outputs": [],
   "source": [
    "epochs = 25\n",
    "annealer = tf.keras.callbacks.LearningRateScheduler(lambda x: 1e-3 * 0.95 ** (x+epochs))"
   ]
  },
  {
   "cell_type": "code",
   "execution_count": 33,
   "metadata": {},
   "outputs": [],
   "source": [
    "early_stopping_cb = keras.callbacks.EarlyStopping(\n",
    "        # Stop training when `val_loss` is no longer improving\n",
    "        monitor='val_loss',\n",
    "        # \"no longer improving\" being defined as \"no better than 1e-2 less\"\n",
    "        min_delta=1e-3,\n",
    "        # \"no longer improving\" being further defined as \"for at least 2 epochs\"\n",
    "        patience=25,\n",
    "        verbose=1)"
   ]
  },
  {
   "cell_type": "code",
   "execution_count": 43,
   "metadata": {},
   "outputs": [
    {
     "name": "stdout",
     "output_type": "stream",
     "text": [
      "Epoch 1/25\n",
      "1719/1719 [==============================] - 120s 70ms/step - loss: 0.8287 - accuracy: 0.7446 - val_loss: 0.1185 - val_accuracy: 0.9626 - lr: 7.6945e-05\n",
      "Epoch 2/25\n",
      "1719/1719 [==============================] - 118s 68ms/step - loss: 0.2046 - accuracy: 0.9382 - val_loss: 0.0588 - val_accuracy: 0.9818 - lr: 7.3098e-05\n",
      "Epoch 3/25\n",
      "1719/1719 [==============================] - 118s 69ms/step - loss: 0.1244 - accuracy: 0.9623 - val_loss: 0.0417 - val_accuracy: 0.9890 - lr: 6.9443e-05\n",
      "Epoch 4/25\n",
      "1719/1719 [==============================] - 117s 68ms/step - loss: 0.0901 - accuracy: 0.9724 - val_loss: 0.0335 - val_accuracy: 0.9908 - lr: 6.5971e-05\n",
      "Epoch 5/25\n",
      "1719/1719 [==============================] - 117s 68ms/step - loss: 0.0725 - accuracy: 0.9779 - val_loss: 0.0294 - val_accuracy: 0.9908 - lr: 6.2672e-05\n",
      "Epoch 6/25\n",
      "1719/1719 [==============================] - 125s 72ms/step - loss: 0.0631 - accuracy: 0.9814 - val_loss: 0.0285 - val_accuracy: 0.9912 - lr: 5.9539e-05\n",
      "Epoch 7/25\n",
      "1719/1719 [==============================] - 120s 70ms/step - loss: 0.0535 - accuracy: 0.9837 - val_loss: 0.0280 - val_accuracy: 0.9910 - lr: 5.6562e-05\n",
      "Epoch 8/25\n",
      "1719/1719 [==============================] - 123s 71ms/step - loss: 0.0480 - accuracy: 0.9853 - val_loss: 0.0247 - val_accuracy: 0.9924 - lr: 5.3734e-05\n",
      "Epoch 9/25\n",
      "1719/1719 [==============================] - 122s 71ms/step - loss: 0.0447 - accuracy: 0.9867 - val_loss: 0.0234 - val_accuracy: 0.9930 - lr: 5.1047e-05\n",
      "Epoch 10/25\n",
      "1719/1719 [==============================] - 116s 68ms/step - loss: 0.0388 - accuracy: 0.9879 - val_loss: 0.0252 - val_accuracy: 0.9924 - lr: 4.8495e-05\n",
      "Epoch 11/25\n",
      "1719/1719 [==============================] - 115s 67ms/step - loss: 0.0366 - accuracy: 0.9888 - val_loss: 0.0207 - val_accuracy: 0.9944 - lr: 4.6070e-05\n",
      "Epoch 12/25\n",
      "1719/1719 [==============================] - 115s 67ms/step - loss: 0.0354 - accuracy: 0.9891 - val_loss: 0.0204 - val_accuracy: 0.9948 - lr: 4.3766e-05\n",
      "Epoch 13/25\n",
      "1719/1719 [==============================] - 116s 68ms/step - loss: 0.0325 - accuracy: 0.9901 - val_loss: 0.0208 - val_accuracy: 0.9938 - lr: 4.1578e-05\n",
      "Epoch 14/25\n",
      "1719/1719 [==============================] - 117s 68ms/step - loss: 0.0299 - accuracy: 0.9910 - val_loss: 0.0191 - val_accuracy: 0.9950 - lr: 3.9499e-05\n",
      "Epoch 15/25\n",
      "1719/1719 [==============================] - 114s 67ms/step - loss: 0.0294 - accuracy: 0.9907 - val_loss: 0.0198 - val_accuracy: 0.9948 - lr: 3.7524e-05\n",
      "Epoch 16/25\n",
      "1719/1719 [==============================] - 115s 67ms/step - loss: 0.0268 - accuracy: 0.9917 - val_loss: 0.0193 - val_accuracy: 0.9950 - lr: 3.5648e-05\n",
      "Epoch 17/25\n",
      "1719/1719 [==============================] - 116s 68ms/step - loss: 0.0252 - accuracy: 0.9921 - val_loss: 0.0196 - val_accuracy: 0.9950 - lr: 3.3866e-05\n",
      "Epoch 18/25\n",
      "1719/1719 [==============================] - 115s 67ms/step - loss: 0.0238 - accuracy: 0.9925 - val_loss: 0.0189 - val_accuracy: 0.9954 - lr: 3.2172e-05\n",
      "Epoch 19/25\n",
      "1719/1719 [==============================] - 125s 73ms/step - loss: 0.0225 - accuracy: 0.9930 - val_loss: 0.0212 - val_accuracy: 0.9938 - lr: 3.0564e-05\n",
      "Epoch 20/25\n",
      "1719/1719 [==============================] - 123s 72ms/step - loss: 0.0223 - accuracy: 0.9930 - val_loss: 0.0186 - val_accuracy: 0.9948 - lr: 2.9035e-05\n",
      "Epoch 21/25\n",
      "1719/1719 [==============================] - 122s 71ms/step - loss: 0.0209 - accuracy: 0.9935 - val_loss: 0.0189 - val_accuracy: 0.9950 - lr: 2.7584e-05\n",
      "Epoch 22/25\n",
      "1719/1719 [==============================] - 125s 73ms/step - loss: 0.0203 - accuracy: 0.9935 - val_loss: 0.0181 - val_accuracy: 0.9958 - lr: 2.6205e-05\n",
      "Epoch 23/25\n",
      "1719/1719 [==============================] - 125s 73ms/step - loss: 0.0189 - accuracy: 0.9939 - val_loss: 0.0214 - val_accuracy: 0.9934 - lr: 2.4894e-05\n",
      "Epoch 24/25\n",
      "1719/1719 [==============================] - 121s 70ms/step - loss: 0.0187 - accuracy: 0.9940 - val_loss: 0.0193 - val_accuracy: 0.9952 - lr: 2.3650e-05\n",
      "Epoch 25/25\n",
      "1719/1719 [==============================] - 119s 69ms/step - loss: 0.0175 - accuracy: 0.9945 - val_loss: 0.0178 - val_accuracy: 0.9956 - lr: 2.2467e-05\n"
     ]
    },
    {
     "data": {
      "text/plain": [
       "<tensorflow.python.keras.callbacks.History at 0x2afb18af588>"
      ]
     },
     "execution_count": 43,
     "metadata": {},
     "output_type": "execute_result"
    }
   ],
   "source": [
    "\n",
    "keras.backend.clear_session()\n",
    "tf.random.set_seed(42)\n",
    "np.random.seed(42)\n",
    "model = Sequential()\n",
    "model.add(Conv2D(32,kernel_size=3,activation='relu',input_shape=(28,28,1)))\n",
    "model.add(BatchNormalization())\n",
    "model.add(Conv2D(32,kernel_size=3,activation='relu'))\n",
    "model.add(BatchNormalization())\n",
    "model.add(Conv2D(32,kernel_size=5,strides=2,padding='same',activation='relu'))\n",
    "model.add(BatchNormalization())\n",
    "model.add(Dropout(0.4))\n",
    "\n",
    "model.add(Conv2D(64,kernel_size=3,activation='relu'))\n",
    "model.add(BatchNormalization())\n",
    "model.add(Conv2D(64,kernel_size=3,activation='relu'))\n",
    "model.add(BatchNormalization())\n",
    "model.add(Conv2D(64,kernel_size=5,strides=2,padding='same',activation='relu'))\n",
    "model.add(BatchNormalization())\n",
    "model.add(Dropout(0.4))\n",
    "\n",
    "model.add(Flatten())\n",
    "model.add(Dense(128, activation='relu'))\n",
    "model.add(BatchNormalization())\n",
    "model.add(Dropout(0.4))\n",
    "model.add(Dense(10, activation='softmax'))\n",
    "model.compile(loss=\"sparse_categorical_crossentropy\", optimizer=\"nadam\",\n",
    "              metrics=[\"accuracy\"])\n",
    "\n",
    "model.fit(X_train, y_train, epochs=25, validation_data=(X_valid, y_valid), callbacks = [early_stopping_cb,annealer])"
   ]
  },
  {
   "cell_type": "code",
   "execution_count": 44,
   "metadata": {},
   "outputs": [
    {
     "name": "stdout",
     "output_type": "stream",
     "text": [
      "313/313 [==============================] - 3s 10ms/step - loss: 0.0158 - accuracy: 0.9949\n"
     ]
    },
    {
     "data": {
      "text/plain": [
       "[0.01576046831905842, 0.9948999881744385]"
      ]
     },
     "execution_count": 44,
     "metadata": {},
     "output_type": "execute_result"
    }
   ],
   "source": [
    "model.evaluate(X_test, y_test)"
   ]
  },
  {
   "cell_type": "code",
   "execution_count": null,
   "metadata": {},
   "outputs": [],
   "source": []
  }
 ],
 "metadata": {
  "kernelspec": {
   "display_name": "Python 3",
   "language": "python",
   "name": "python3"
  },
  "language_info": {
   "codemirror_mode": {
    "name": "ipython",
    "version": 3
   },
   "file_extension": ".py",
   "mimetype": "text/x-python",
   "name": "python",
   "nbconvert_exporter": "python",
   "pygments_lexer": "ipython3",
   "version": "3.7.6"
  }
 },
 "nbformat": 4,
 "nbformat_minor": 4
}
